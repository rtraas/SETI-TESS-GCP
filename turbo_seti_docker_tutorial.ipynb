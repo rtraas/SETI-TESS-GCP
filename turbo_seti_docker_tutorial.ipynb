{
 "cells": [
  {
   "cell_type": "markdown",
   "metadata": {},
   "source": [
    "\\begin{align*}\n",
    "\\huge \\text{Using turboSETI with Docker}\n",
    "\\end{align*}"
   ]
  },
  {
   "cell_type": "markdown",
   "metadata": {},
   "source": [
    "# Disclaimer: \n",
    "\n",
    "This will work for Debian 9 and for Google Cloud Platform (GCP) Virtual Machines (VM) because it's their Linux distribution of choice."
   ]
  },
  {
   "cell_type": "markdown",
   "metadata": {},
   "source": [
    "## 1. Install Docker"
   ]
  },
  {
   "cell_type": "markdown",
   "metadata": {},
   "source": [
    "***\n",
    "This part of the tutorial is pulled from an existing tutorial found here: https://tomroth.com.au/gcp-docker/\n",
    "***"
   ]
  },
  {
   "cell_type": "markdown",
   "metadata": {},
   "source": [
    "Open a terminal and copy and paste the code below into your session."
   ]
  },
  {
   "cell_type": "raw",
   "metadata": {},
   "source": [
    "sudo apt update\n",
    "\n",
    "\n",
    "sudo apt install --yes apt-transport-https ca-certificates curl gnupg2 software-properties-common\n",
    "\n",
    "\n",
    "curl -fsSL https://download.docker.com/linux/debian/gpg | sudo apt-key add -\n",
    "\n",
    "\n",
    "sudo add-apt-repository \"deb [arch=amd64] https://download.docker.com/linux/debian $(lsb_release -cs) stable\"\n",
    "\n",
    "\n",
    "sudo apt update\n",
    "\n",
    "\n",
    "sudo apt install --yes docker-ce"
   ]
  },
  {
   "cell_type": "markdown",
   "metadata": {},
   "source": [
    "Docker should now be installed, which means you can now run Docker shell commands."
   ]
  },
  {
   "cell_type": "markdown",
   "metadata": {},
   "source": [
    "If we stop here, you'd have to use `sudo` as a prefix to every Docker command.  You can fix this by adding yourself (i.e., your user) to the Docker group by running the following code:"
   ]
  },
  {
   "cell_type": "raw",
   "metadata": {},
   "source": [
    "sudo usermod -aG docker $USER"
   ]
  },
  {
   "cell_type": "markdown",
   "metadata": {},
   "source": [
    "For this change to take effect, you must log out and log back in to \"refresh\" your session."
   ]
  },
  {
   "cell_type": "raw",
   "metadata": {},
   "source": [
    "logout"
   ]
  },
  {
   "cell_type": "markdown",
   "metadata": {},
   "source": [
    "To test if Docker has been installed correctly, run the code below."
   ]
  },
  {
   "cell_type": "raw",
   "metadata": {},
   "source": [
    "docker run hello-world"
   ]
  },
  {
   "cell_type": "markdown",
   "metadata": {},
   "source": [
    "If that was successful, congrats!  Docker is properly installed!"
   ]
  },
  {
   "cell_type": "markdown",
   "metadata": {},
   "source": [
    "# 2. Git Clone the turbo_seti repository"
   ]
  },
  {
   "cell_type": "markdown",
   "metadata": {},
   "source": [
    "## Prerequisites"
   ]
  },
  {
   "cell_type": "markdown",
   "metadata": {},
   "source": [
    "Ensure you have `git` installed.  If you don't, don't fret, because all you have to do is open a terminal session and run `sudo apt update` and subsequently run `sudo apt install git`."
   ]
  },
  {
   "cell_type": "markdown",
   "metadata": {},
   "source": [
    "In order to run `turbo_seti`, you need to *have* `turbo_seti`.  \n",
    "\n",
    "So, to do that, let's open a (or continue using) terminal session and run"
   ]
  },
  {
   "cell_type": "raw",
   "metadata": {},
   "source": [
    "git clone https://UCBerkeleySETI/turbo_seti"
   ]
  },
  {
   "cell_type": "markdown",
   "metadata": {},
   "source": [
    "which will \n",
    "1. Create a directory named `turbo_seti` on your machine\n",
    "2. Clone the `turbo_seti` repository to the newly minted `turbo_seti` directory"
   ]
  },
  {
   "cell_type": "markdown",
   "metadata": {},
   "source": [
    "# 3. Building the `turbo_seti` docker image"
   ]
  },
  {
   "cell_type": "markdown",
   "metadata": {},
   "source": [
    "Next, simply navigate to the `turbo_seti` directory using `cd turbo_seti`."
   ]
  },
  {
   "cell_type": "markdown",
   "metadata": {},
   "source": [
    "Then, open the `Dockerfile` with your favorite editor.  I'll be using `nano`."
   ]
  },
  {
   "cell_type": "markdown",
   "metadata": {},
   "source": [
    "Now, navigate to the line that says `RUN pip install --upgrade pip setuptools wheel` and edit the line by replacing it with the code below."
   ]
  },
  {
   "cell_type": "raw",
   "metadata": {},
   "source": [
    "RUN pip install --upgrade pip\n",
    "RUN pip install --upgrade setuptools wheel"
   ]
  },
  {
   "cell_type": "markdown",
   "metadata": {},
   "source": [
    "So now the full Dockerfile should look like this:"
   ]
  },
  {
   "cell_type": "raw",
   "metadata": {},
   "source": [
    "# To compile this with docker use:\n",
    "# docker build --tag turbo_seti .\n",
    "# Then to run it:\n",
    "# docker run --rm -it turbo_seti\n",
    "# To be able to access local disk on Mac OSX, you need to use Docker for Mac GUI\n",
    "# and click on 'File sharing', then add your directory, e.g. /data/bl_pks\n",
    "# Then to run it:\n",
    "# docker run --rm -it -v /data/bl_pks:/mnt/data turbo_seti\n",
    "# And if you want to access a port, you need to do a similar thing:\n",
    "# docker run --rm -it -p 9876:9876 sigpyproc\n",
    "\n",
    "# INSTALL BASE FROM KERN SUITE\n",
    "FROM kernsuite/base:3\n",
    "ARG DEBIAN_FRONTEND=noninteractive\n",
    "\n",
    "ENV TERM xterm\n",
    "\n",
    "######\n",
    "# Do docker apt-installs\n",
    "RUN docker-apt-install build-essential python-setuptools python-pip python-tk pkg-config\n",
    "RUN docker-apt-install curl wget make cmake git\n",
    "RUN docker-apt-install libomp-dev\n",
    "RUN docker-apt-install libhdf5-serial-dev libhdf5-dev libhdf5-cpp-11\n",
    "\n",
    "#####\n",
    "# Pip installation of python packages\n",
    "RUN pip install --upgrade pip                         # <--- Here are the lines we edited\n",
    "RUN pip install --upgrade setuptools wheel            # <--- \n",
    "RUN pip install numpy==1.14.1\n",
    "RUN pip install pandas cython astropy matplotlib\n",
    "RUN pip install --only-binary=scipy scipy\n",
    "\n",
    "######\n",
    "# HDF5 fixup\n",
    "# Ubuntu 16.04 has a crazy hdf5 setup, needs some massaging, and extra flags to install h5py\n",
    "RUN ln -s /usr/lib/x86_64-linux-gnu/libhdf5_serial.so /usr/lib/x86_64-linux-gnu/libhdf5.so\n",
    "RUN ln -s /usr/lib/x86_64-linux-gnu/libhdf5_serial_hl.so /usr/lib/x86_64-linux-gnu/libhdf5_hl.so\n",
    "RUN CFLAGS=-I/usr/include/hdf5/serial pip install h5py==2.5.0\n",
    "RUN CFLAGS=-I/usr/include/hdf5/serial pip install bitshuffle==0.3.4\n",
    "\n",
    "\n",
    "# Finally, install!\n",
    "COPY . .\n",
    "RUN python setup.py install"
   ]
  },
  {
   "cell_type": "markdown",
   "metadata": {},
   "source": [
    "Now, you are ready to build the `turbo_seti` docker image!"
   ]
  },
  {
   "cell_type": "markdown",
   "metadata": {},
   "source": [
    "To do so, while still in the `turbo_seti` directory, run the Docker command below:"
   ]
  },
  {
   "cell_type": "raw",
   "metadata": {},
   "source": [
    "docker build --tag turbo_seti ."
   ]
  },
  {
   "cell_type": "markdown",
   "metadata": {},
   "source": [
    "To verify that everything installed correctly, run the Docker command `docker image ls` and look for `turbo_seti`.  If `turbo_seti` is listed as one of the Docker images, then congratulations!  You have just built `turbo_seti` as a Docker image!"
   ]
  },
  {
   "cell_type": "markdown",
   "metadata": {},
   "source": [
    "### You now wield the full power of `turbo_seti`!"
   ]
  }
 ],
 "metadata": {
  "kernelspec": {
   "display_name": "Python 3",
   "language": "python",
   "name": "python3"
  },
  "language_info": {
   "codemirror_mode": {
    "name": "ipython",
    "version": 3
   },
   "file_extension": ".py",
   "mimetype": "text/x-python",
   "name": "python",
   "nbconvert_exporter": "python",
   "pygments_lexer": "ipython3",
   "version": "3.7.6"
  }
 },
 "nbformat": 4,
 "nbformat_minor": 4
}
