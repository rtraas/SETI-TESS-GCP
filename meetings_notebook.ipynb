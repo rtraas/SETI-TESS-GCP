{
 "cells": [
  {
   "cell_type": "markdown",
   "metadata": {},
   "source": [
    "\\begin{align*}\n",
    "\\huge \\text{ Project Progress as of 06-22-20}\n",
    "\\end{align*}"
   ]
  },
  {
   "cell_type": "markdown",
   "metadata": {},
   "source": [
    "## What I did:"
   ]
  },
  {
   "cell_type": "markdown",
   "metadata": {},
   "source": [
    "### - Produced .dat files using turboSETI on blpc0"
   ]
  },
  {
   "cell_type": "markdown",
   "metadata": {},
   "source": [
    "### - Created a .pdf file of 130 Waterfall plots using targets from Enriquez et al. (2017) using blimpy"
   ]
  },
  {
   "cell_type": "markdown",
   "metadata": {},
   "source": [
    "![title](spliced_blc0001020304050607_guppi_57680_15520_HIP7981_0039.gpuspec.0000.png)"
   ]
  },
  {
   "cell_type": "markdown",
   "metadata": {},
   "source": [
    "![title](spliced_blc0001020304050607_guppi_57680_16219_HIP7981_0041.gpuspec.0000.png)"
   ]
  },
  {
   "cell_type": "markdown",
   "metadata": {},
   "source": [
    "![title](spliced_blc0001020304050607_guppi_57680_17264_HIP6975_0044.gpuspec.0000.png)"
   ]
  },
  {
   "cell_type": "markdown",
   "metadata": {},
   "source": [
    "![title](spliced_blc0001020304050607_guppi_57752_83026_HIP99427_0033.gpuspec.0000.png)"
   ]
  },
  {
   "cell_type": "markdown",
   "metadata": {},
   "source": [
    "![title](spliced_blc02030405_2bit_guppi_57456_03335_HIP39826_0011.gpuspec.0000.png)"
   ]
  },
  {
   "cell_type": "markdown",
   "metadata": {},
   "source": [
    "![title](spliced_blc0001020304050607_guppi_57680_16566_HIP6966_0042.gpuspec.0000.png)"
   ]
  },
  {
   "cell_type": "markdown",
   "metadata": {},
   "source": [
    "## Next week goals:"
   ]
  },
  {
   "cell_type": "markdown",
   "metadata": {},
   "source": [
    "### - Get cadence plots "
   ]
  },
  {
   "cell_type": "markdown",
   "metadata": {},
   "source": [
    "### - Reproduce on GCP VM"
   ]
  },
  {
   "cell_type": "markdown",
   "metadata": {},
   "source": [
    "# Progress as of 06-29-2020"
   ]
  },
  {
   "cell_type": "markdown",
   "metadata": {},
   "source": [
    "## What I did:"
   ]
  },
  {
   "cell_type": "markdown",
   "metadata": {},
   "source": [
    "### Modified code from Sofia Sheikh and Karen Perez to use turboSETI's \"find_event_pipeline\" "
   ]
  },
  {
   "cell_type": "markdown",
   "metadata": {},
   "source": [
    "            - Performed analysis pipeline on the 11 targets from which the most significant events detected\n",
    "            - For each, produced the same number of hits and events as detailed in Enriquez et al. (2017)"
   ]
  },
  {
   "cell_type": "markdown",
   "metadata": {},
   "source": [
    "### Modified code from Sofia Sheikh and the \"L-band 2017\" Kaggle notebook to produce waterfall plots for the cadences"
   ]
  },
  {
   "cell_type": "markdown",
   "metadata": {},
   "source": [
    "            - Reproduced figures from Enriquez et al. (2017)"
   ]
  },
  {
   "cell_type": "markdown",
   "metadata": {},
   "source": [
    "### Attempted to reproduce results on GCP"
   ]
  },
  {
   "cell_type": "markdown",
   "metadata": {},
   "source": [
    "            - turboSETI has problem with FindDoppler when input file is from the storage bucket \"bl_tess\"\n",
    "                        - Sifted through Google: Possible explanations?\n",
    "                                    - Read/write permissions\n",
    "                                    - Bucket is from external project: \n",
    "                                                - bl_tess not originally from \"breakthrough-listen-sandbox\"\n",
    "                                                - doesn't show up in gsutil's list bucket function\n",
    "                                       \n",
    "                                    "
   ]
  },
  {
   "cell_type": "markdown",
   "metadata": {},
   "source": [
    "![title](turboSETIproblem.png)"
   ]
  },
  {
   "cell_type": "markdown",
   "metadata": {},
   "source": [
    "\n",
    "\n",
    "![title](1_HIP20901_dr_-0.48_freq_2251.363842.png)\n",
    "![title](1_HIP39826_dr_-0.48_freq_1876.363841.png)\n",
    "\n",
    "![title](../refactor/1_HIP65352_dr_0.01_freq_1876.363841.png)\n",
    "\n",
    "\n"
   ]
  },
  {
   "cell_type": "markdown",
   "metadata": {},
   "source": [
    "# Still working through some bugs..."
   ]
  },
  {
   "cell_type": "markdown",
   "metadata": {},
   "source": [
    "\n",
    "![title](1_HIP66704_dr_-0.48_freq_2251.363842.png)\n",
    "\n",
    "\n",
    "![title](1_HIP7981_dr_-0.48_freq_2251.363842.png)"
   ]
  },
  {
   "cell_type": "markdown",
   "metadata": {},
   "source": [
    "\n",
    "\n",
    "![title](./updated/1_HIP74981_dr_-0.25_freq_2251.363843.png)\n",
    "![title](./updated/1_HIP7981_dr_0.66_freq_2251.363842.png)\n",
    "\n"
   ]
  },
  {
   "cell_type": "markdown",
   "metadata": {},
   "source": [
    "## Goals for next week"
   ]
  },
  {
   "cell_type": "markdown",
   "metadata": {},
   "source": [
    "### - Get entire pipeline running on GCP\n",
    "\n"
   ]
  },
  {
   "cell_type": "markdown",
   "metadata": {},
   "source": [
    "            Considerations:\n",
    "                        - Need to use Google Cloud API's?\n",
    "                        - Pandas has capability of reading a file from a GCS bucket\n",
    "                                    - Would this useful?"
   ]
  },
  {
   "cell_type": "markdown",
   "metadata": {},
   "source": [
    "\\begin{align*}\n",
    "\\huge \\text{ Project Progress as of 07-06-20}\n",
    "\\end{align*}"
   ]
  },
  {
   "cell_type": "markdown",
   "metadata": {},
   "source": [
    "## What I did:"
   ]
  },
  {
   "cell_type": "markdown",
   "metadata": {},
   "source": [
    "### Read reference papers on exoplanets and technosignatures"
   ]
  },
  {
   "cell_type": "markdown",
   "metadata": {},
   "source": [
    "#### Read entirely\n",
    "            - Extending the Breakthrough Listen nearby star survey to otherstellar objects in the field\n",
    "                - Wlodarczyk-Sroka et al. (2020)\n",
    "                    - Using GAIA DR2, defined an extended sample of stars observed by BL\n",
    "                    - Considered stars lying in FWHM of beams at GBT and Parkes\n",
    "                    - Improved figures of merit\n",
    "\n",
    "            - Exoplanets and SETI\n",
    "                - Wright (2017)\n",
    "                    - Discussed the \"where\" and \"when\" to observe for exoplanet technosignatures\n",
    "                    - Discussed different technosignatures on exoplanets\n",
    "                        - Waste Heat\n",
    "                        - Artificial Illumination\n",
    "                        - Pollution Spectroscopy\n",
    "                \n",
    "            - Exoplanet Transits as the Foundation of an Interstellar Communication Network\n",
    "                - Forgan (2017)\n",
    "                    - Discussed possible method of communication network between ETI civilizations\n",
    "                        - ETI \"A\" adds signals to own transit curve\n",
    "                        - ETI \"B\" observes \"A\" transit and receives message as \"filled-in absorption lines\"\n",
    "\n",
    "####  Supplementary readings (read minimally)\n",
    "            - Interstellar Communication: The Case for Spread Spectrum\n",
    "                - Messerschmitt (2012)\n",
    "                    - Proposes a possible end-to-end digital interstellar communication system\n",
    "                    - Addressed methods of discovering \"information-bearing signal\" considering noise and RFI"
   ]
  },
  {
   "cell_type": "markdown",
   "metadata": {},
   "source": [
    "### GCP & turboSETI (later today)"
   ]
  },
  {
   "cell_type": "markdown",
   "metadata": {},
   "source": [
    "#### Will be working with Steve to resolve issues with turboSETI in the cloud"
   ]
  },
  {
   "cell_type": "markdown",
   "metadata": {},
   "source": [
    "##### Oddities\n",
    "\n",
    "    - No issues earlier this summer using older instance (raffy-test)\n",
    "        - Successfully ran on HIP39826, etc.\n",
    "\n",
    "    - Issues occurred when running on clean instance (raffy-test-1)\n",
    "        - Unsuccessful with TESS data\n",
    "             \"\n",
    "             Exception: (1, '[turbo_SETI] Some issue with FindDoppler.', \n",
    "                 OSError('Error accessing header from file: spliced ... TIC159510109... .h5.))\n",
    "                                                                                             \"\n",
    "\n",
    "        - Unsuccessful with non-TESS data (HIP39826, etc.)\n",
    "             \"\n",
    "             Exception: (1, '[turbo_SETI] Some issue with FindDoppler.', \n",
    "                 OSError('Something is wrong with array size'))\n",
    "                                                                       \"\n",
    "\n",
    "    - Started up old instance (raffy-test)\n",
    "        - turboSETI unsuccessful on ANY file (HIP39826, etc.)\n",
    "        - same result for several files\n",
    "             \"\n",
    "             Exception: (1, '[turbo_SETI] Some issue with FindDoppler.', \n",
    "                 OSError('Something is wrong with array size'))\n",
    "                                                                       \""
   ]
  },
  {
   "cell_type": "markdown",
   "metadata": {},
   "source": [
    "## Goals for next week"
   ]
  },
  {
   "cell_type": "markdown",
   "metadata": {},
   "source": [
    "### Fix turboSETI for use in the cloud (and add documentation for use in GCP)\n",
    "### Analyze GBT observations of TESS targets"
   ]
  },
  {
   "cell_type": "markdown",
   "metadata": {},
   "source": [
    "\\begin{align*}\n",
    "\\huge \\text{ Project Progress as of 07-13-20}\n",
    "\\end{align*}"
   ]
  },
  {
   "cell_type": "markdown",
   "metadata": {},
   "source": [
    "# What I did:"
   ]
  },
  {
   "cell_type": "markdown",
   "metadata": {},
   "source": [
    "## Fixed turboSETI for use in the cloud\n",
    "    - Mounted GCS \"bl_tess\" bucket to VM instance\n",
    "    - Modified the existing turbo_seti Dockerfile\n",
    "        - Fixed installation issues\n",
    "        - Updated for Python3\n",
    "        - Submitted pull request with changes\n",
    "    - Installed Docker in VM\n",
    "    - Git cloned turbo_seti repo (with modified Dockerfile)\n",
    "    - Built Docker image for turbo_seti"
   ]
  },
  {
   "cell_type": "markdown",
   "metadata": {},
   "source": [
    "## Began analyzing GBT observations of TESS targets\n",
    "    - Currently running turbo_seti on TESS target data\n",
    "    - Wrote script to return correctly ordered file lists for a cadence\n",
    "        - Plan: \n",
    "            1) turbo_seti on all files\n",
    "            2) group .dat files by cadence\n",
    "            3) find/plot pipelines\n",
    "    - In meantime, resolving issues with find_event_pipeline and plot_event_pipeline\n",
    "        - So, no interesting plots to show as of yet..."
   ]
  },
  {
   "cell_type": "markdown",
   "metadata": {},
   "source": [
    "## Added Documentation\n",
    "    - Added analysis Python scripts to GitHub\n",
    "    - Created tutorial for getting obtaining turbo_seti in Docker (adding more soon)\n",
    "    - Updated Kaggle Notebook of my analysis"
   ]
  },
  {
   "cell_type": "markdown",
   "metadata": {},
   "source": [
    "## Goals for next week\n",
    "    - Resolve finding and plotting events pipelines\n",
    "    - Adding Documentation of those working pipelines to GitHub\n",
    "    - Group files by cadence + Begin find/plot pipelines on each\n",
    "    - Continue updating tutorial and Kaggle Notebook"
   ]
  },
  {
   "cell_type": "markdown",
   "metadata": {},
   "source": [
    "\\begin{align*}\n",
    "\\huge \\text{ Project Progress as of 07-20-20}\n",
    "\\end{align*}"
   ]
  },
  {
   "cell_type": "markdown",
   "metadata": {},
   "source": [
    "# What I did:"
   ]
  },
  {
   "cell_type": "markdown",
   "metadata": {},
   "source": [
    "# Pipeline\n",
    "    - Created bash scripts to run turbo_seti on all files in the mounted GCS bucket \"bl_tess\"\n",
    "        - L, S, X, C - Bands\n",
    "    - Updated Github repo with adding extensive documentation"
   ]
  },
  {
   "cell_type": "markdown",
   "metadata": {},
   "source": [
    "\\begin{align*}\n",
    "\\huge \\text{ Project Progress as of 07-27-20}\n",
    "\\end{align*}"
   ]
  },
  {
   "cell_type": "markdown",
   "metadata": {},
   "source": [
    "# What I did:"
   ]
  },
  {
   "cell_type": "markdown",
   "metadata": {},
   "source": [
    "## Pipeline\n",
    "Wrote automated `find_event` and `plot_event` pipeline scripts"
   ]
  },
  {
   "cell_type": "markdown",
   "metadata": {},
   "source": [
    "![rfi_plot](https://github.com/rtraas/turboCLOUD/raw/master/turbo_cloud/pipes/hits_rfi_plot.png)"
   ]
  },
  {
   "cell_type": "markdown",
   "metadata": {},
   "source": [
    "![noice](https://github.com/rtraas/turboCLOUD/raw/master/turbo_cloud/pipes/07-23-2020.png)"
   ]
  },
  {
   "cell_type": "markdown",
   "metadata": {},
   "source": [
    "- Added extensive documentation about my scripts, including `fileio.py`, `auto_find_event_pipeline.py`, and `autoplot.py`."
   ]
  },
  {
   "cell_type": "markdown",
   "metadata": {},
   "source": [
    "Something about improving and adding extensive documentation about `fileio.py`."
   ]
  },
  {
   "cell_type": "markdown",
   "metadata": {},
   "source": [
    "![plot](https://github.com/rtraas/turboCLOUD/raw/master/gallery/rt.png)"
   ]
  },
  {
   "cell_type": "markdown",
   "metadata": {},
   "source": [
    "![plot](https://github.com/rtraas/turboCLOUD/blob/master/gallery/rt3.png)"
   ]
  }
 ],
 "metadata": {
  "kernelspec": {
   "display_name": "Python 3",
   "language": "python",
   "name": "python3"
  },
  "language_info": {
   "codemirror_mode": {
    "name": "ipython",
    "version": 3
   },
   "file_extension": ".py",
   "mimetype": "text/x-python",
   "name": "python",
   "nbconvert_exporter": "python",
   "pygments_lexer": "ipython3",
   "version": "3.7.6"
  }
 },
 "nbformat": 4,
 "nbformat_minor": 4
}
