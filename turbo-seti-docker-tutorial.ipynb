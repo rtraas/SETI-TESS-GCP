{
 "cells": [
  {
   "cell_type": "markdown",
   "metadata": {},
   "source": [
    "\\begin{align*}\n",
    "\\huge \\text{Using turboSETI with Docker}\n",
    "\\end{align*}"
   ]
  },
  {
   "cell_type": "markdown",
   "metadata": {},
   "source": [
    "This tutorial has been designed to accomplish two objectives:\n",
    "1. To aid readers in the process of setting-up turbo_seti for use within Docker\n",
    "2. To provide helpful pointers when using turbo_seti"
   ]
  },
  {
   "cell_type": "markdown",
   "metadata": {},
   "source": [
    "< Add the bit about what turbo_seti is >\n",
    "\n",
    "\n",
    "< Add the bit about what Docker is >"
   ]
  },
  {
   "cell_type": "markdown",
   "metadata": {},
   "source": [
    "# I.    Installing Docker and Building turbo_seti"
   ]
  },
  {
   "cell_type": "markdown",
   "metadata": {},
   "source": [
    "<div class=\"alert alert-block alert-warning\">\n",
    "<b>Disclaimer:</b> This will work for Debian 9 and for Google Cloud Platform (GCP) Virtual Machines (VM) because it's their Linux distribution of choice.\n",
    "</div>"
   ]
  },
  {
   "cell_type": "markdown",
   "metadata": {},
   "source": [
    "## 1. Install Docker"
   ]
  },
  {
   "cell_type": "markdown",
   "metadata": {},
   "source": [
    "***\n",
    "<div class=\"alert alert-block alert-info\">\n",
    "<b>Note:</b> This part of the tutorial is pulled from an existing tutorial.\n",
    "</div>\n",
    "\n",
    "The original tutorial can be found __[here](https://tomroth.com.au/gcp-docker/)__\n",
    "\n",
    "***"
   ]
  },
  {
   "cell_type": "markdown",
   "metadata": {},
   "source": [
    "Open a terminal and copy and paste the code below into your session.  "
   ]
  },
  {
   "cell_type": "markdown",
   "metadata": {},
   "source": [
    "<div class=\"alert alert-block alert-warning\">\n",
    "<b>Reminder:</b> Note that the following code is geared towards debian users, as Google Compute Instances use Debian as their distro of choice!  OS-specific documentation is available elsewhere online for installing Docker and will not be covered in this tutorial.  But, what I can say is that if you instead use ubuntu, switch out \"debian\" for \"ubuntu\" anywhere you see \"debian\" in the commands below.\n",
    "</div>"
   ]
  },
  {
   "cell_type": "markdown",
   "metadata": {},
   "source": [
    "`sudo apt update\n",
    "sudo apt install --yes apt-transport-https ca-certificates curl gnupg2 software-properties-common\n",
    "curl -fsSL https://download.docker.com/linux/debian/gpg | sudo apt-key add -\n",
    "`"
   ]
  },
  {
   "cell_type": "markdown",
   "metadata": {},
   "source": [
    "Then add the repository\n",
    "\n",
    "`sudo add-apt-repository \"deb [arch=amd64] https://download.docker.com/linux/debian $(lsb_release -cs) stable\"\n",
    "`"
   ]
  },
  {
   "cell_type": "markdown",
   "metadata": {},
   "source": [
    "`sudo apt update\n",
    "sudo apt install --yes docker-ce\n",
    "`"
   ]
  },
  {
   "cell_type": "markdown",
   "metadata": {},
   "source": [
    "Docker should now be installed, which means you can now run Docker shell commands."
   ]
  },
  {
   "cell_type": "markdown",
   "metadata": {},
   "source": [
    "If we stop here, you'd have to use `sudo` as a prefix to every Docker command.  You can fix this by adding yourself (i.e., your user) to the Docker group by running the following code:"
   ]
  },
  {
   "cell_type": "markdown",
   "metadata": {},
   "source": [
    "`sudo usermod -aG docker $USER`"
   ]
  },
  {
   "cell_type": "markdown",
   "metadata": {},
   "source": [
    "For this change to take effect, you must log out and log back in to \"refresh\" your session."
   ]
  },
  {
   "cell_type": "markdown",
   "metadata": {},
   "source": [
    "`logout`"
   ]
  },
  {
   "cell_type": "markdown",
   "metadata": {},
   "source": [
    "To test if Docker has been installed correctly, run the code below."
   ]
  },
  {
   "cell_type": "markdown",
   "metadata": {},
   "source": [
    "`docker run hello-world`"
   ]
  },
  {
   "cell_type": "markdown",
   "metadata": {},
   "source": [
    "If that was successful, congrats!  Docker is properly installed!"
   ]
  },
  {
   "cell_type": "markdown",
   "metadata": {},
   "source": [
    "## 2. Git Clone the turbo_seti repository"
   ]
  },
  {
   "cell_type": "markdown",
   "metadata": {},
   "source": [
    "### Prerequisites"
   ]
  },
  {
   "cell_type": "markdown",
   "metadata": {},
   "source": [
    "Ensure you have `git` installed.  If you don't, don't fret, because all you have to do is open a terminal session and run `sudo apt update` and subsequently run `sudo apt install git`."
   ]
  },
  {
   "cell_type": "markdown",
   "metadata": {},
   "source": [
    "In order to run `turbo_seti`, you need to *have* `turbo_seti`.  \n",
    "\n",
    "So, to do that, let's open a (or continue using) terminal session and run"
   ]
  },
  {
   "cell_type": "markdown",
   "metadata": {},
   "source": [
    "`git clone https://UCBerkeleySETI/turbo_seti`"
   ]
  },
  {
   "cell_type": "markdown",
   "metadata": {},
   "source": [
    "which will \n",
    "1. Create a directory named `turbo_seti` on your machine\n",
    "2. Clone the `turbo_seti` repository to the newly minted `turbo_seti` directory"
   ]
  },
  {
   "cell_type": "markdown",
   "metadata": {},
   "source": [
    "We are now ready to install turbo_seti using Docker!  To do so, while still in the `turbo_seti` directory, run the Docker command below:"
   ]
  },
  {
   "cell_type": "markdown",
   "metadata": {},
   "source": [
    "`docker build --tag turbo_seti .`"
   ]
  },
  {
   "cell_type": "markdown",
   "metadata": {},
   "source": [
    "To verify that everything installed correctly, run the Docker command `docker image ls` and look for `turbo_seti`.  If `turbo_seti` is listed as one of the Docker images, then congratulations!  You have just built `turbo_seti` as a Docker image!"
   ]
  },
  {
   "cell_type": "markdown",
   "metadata": {},
   "source": [
    "### You now wield the full power of `turbo_seti`!"
   ]
  },
  {
   "cell_type": "markdown",
   "metadata": {},
   "source": [
    "# II.    Using turbo_seti"
   ]
  },
  {
   "cell_type": "markdown",
   "metadata": {},
   "source": [
    "< Add bit about how Docker images, containers work >"
   ]
  },
  {
   "cell_type": "markdown",
   "metadata": {},
   "source": [
    "We can now run a `turbo_seti` container using the `turbo_seti` image we built before.  The command to do this is straightforward, but it pays to bear in mind **how** we would like to be using `turbo_seti`."
   ]
  },
  {
   "cell_type": "markdown",
   "metadata": {},
   "source": [
    "One of the questions you should be asking yourself before running a container is \"*how many files and directories do I need to access to properly run my scripts?*\"  The reason being that when you run a container, you won't have any access to your files."
   ]
  },
  {
   "cell_type": "markdown",
   "metadata": {},
   "source": [
    "For example, here's a picture showing you how to make a Docker container named \"articuno\" that runs using the `turbo_seti` image."
   ]
  },
  {
   "cell_type": "markdown",
   "metadata": {},
   "source": [
    "<img src=\"docker-seti-1.png\" alt=\"Basic Docker container creation\" title=\"A Docker container named 'articuno'\" />"
   ]
  },
  {
   "cell_type": "markdown",
   "metadata": {},
   "source": [
    "Let's break down this command:\n",
    "```\n",
    "docker run --name articuno -it turbo_seti:latest bash\n",
    "```\n",
    "docker | run | --name articuno | -it turbo_seti:latest | bash \n",
    ":-:|:-:|:-:|:-:|:-: \n",
    "Tells the system to interpret the command using Docker|Tells Docker that we wish to create a new container | Name the container so that in the future you don't have to reactivate it using its ID (the sequence of letters and numbers after \"root@\" in the image above) | Specifies the image (turbo_seti) and image version (:latest) from which to obtain a container from.  Enables the use of an interactive terminal inside of the container (\"-it\")| Enables processes within the container to use as much memory and swap memory as needed"
   ]
  },
  {
   "cell_type": "markdown",
   "metadata": {},
   "source": [
    "So as you can see, after running the command to create a container named \"articuno\", we are in the Docker container."
   ]
  }
 ],
 "metadata": {
  "kernelspec": {
   "display_name": "Python 3",
   "language": "python",
   "name": "python3"
  },
  "language_info": {
   "codemirror_mode": {
    "name": "ipython",
    "version": 3
   },
   "file_extension": ".py",
   "mimetype": "text/x-python",
   "name": "python",
   "nbconvert_exporter": "python",
   "pygments_lexer": "ipython3",
   "version": "3.7.6"
  }
 },
 "nbformat": 4,
 "nbformat_minor": 4
}
