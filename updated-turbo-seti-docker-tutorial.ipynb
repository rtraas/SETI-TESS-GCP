{
 "cells": [
  {
   "cell_type": "markdown",
   "metadata": {},
   "source": [
    "# Tutorial: `turbo_seti` in `Docker`"
   ]
  },
  {
   "cell_type": "markdown",
   "metadata": {},
   "source": [
    "___\n",
    "# 1. Installing Docker"
   ]
  },
  {
   "cell_type": "markdown",
   "metadata": {},
   "source": [
    "<div class=\"alert alert-block alert-info\">\n",
    "<b>Disclaimer:</b> The steps below will work for Debian 9 and for Google Cloud Platform (GCP) Virtual Machines (VM) because it's their Linux distribution of choice.\n",
    "</div>"
   ]
  },
  {
   "cell_type": "markdown",
   "metadata": {},
   "source": [
    "For instructions on how to install `Docker` on other OS __[see here](https://docs.docker.com/get-docker/)__"
   ]
  },
  {
   "cell_type": "markdown",
   "metadata": {},
   "source": [
    "## Instructions\n",
    "Open up a terminal and copy and paste the code block below into your session."
   ]
  },
  {
   "cell_type": "markdown",
   "metadata": {},
   "source": [
    "<p style=\"background:black\">\n",
    "<code style=\"background:black;color:white\">\n",
    "    $ sudo apt update \n",
    "    $ sudo apt install --yes apt-transport-https ca-certificates curl gnupg2 software-properties-common \n",
    "    $ curl -fsSL https://download.docker.com/linux/debian/gpg | sudo apt-key add -\n",
    "    $ sudo add-apt-repository \"deb [arch=amd64] https://download.docker.com/linux/debian $(lsb_release -cs) stable\"\n",
    "    $ sudo apt update \n",
    "    $ sudo apt install --yes docker-ce\n",
    "    \n",
    "</code>\n",
    "</p>"
   ]
  },
  {
   "cell_type": "markdown",
   "metadata": {},
   "source": [
    "At this point, Docker should now be installed, which means you can run Docker shell commands.\n",
    "\n",
    "If we stop here, you'd have to use `sudo` as a prefix to _every_ Docker command.  You can forego the need to use prefixes by adding yourself (i.e., your user) to the Docker group by running the following code."
   ]
  },
  {
   "cell_type": "markdown",
   "metadata": {},
   "source": [
    "<p style=\"background:black\">\n",
    "<code style=\"background:black;color:white\">\n",
    "    $ sudo usermod -aG docker $USER\n",
    "\n",
    "</code>\n",
    "</p>\n"
   ]
  },
  {
   "cell_type": "markdown",
   "metadata": {},
   "source": [
    "For this change to take effect, you must log out and log back in to \"refresh\" your session.  You can then test if Docker has been properly installed by running Docker's `hello-world`."
   ]
  },
  {
   "cell_type": "markdown",
   "metadata": {},
   "source": [
    "<p style=\"background:black\">\n",
    "<code style=\"background:black;color:white\">\n",
    "    $ logout\n",
    "    $ docker run hello-world\n",
    "\n",
    "</code>\n",
    "</p>\n"
   ]
  },
  {
   "cell_type": "markdown",
   "metadata": {},
   "source": [
    "If that was successful, congrats!  Docker is successfully installed, and **we can now add `turbo_seti` functionality to Docker**."
   ]
  },
  {
   "cell_type": "markdown",
   "metadata": {},
   "source": [
    "___\n",
    "# 2. Docker Containers and `turbo_seti` "
   ]
  },
  {
   "cell_type": "markdown",
   "metadata": {},
   "source": [
    "### Note: Unlike in Section [1. Installing Docker](#1.-Installing-Docker), the instructions presented here are independent of OS."
   ]
  },
  {
   "cell_type": "markdown",
   "metadata": {},
   "source": [
    "<div class=\"alert alert-block alert-warning\">\n",
    "<b>To-Do:</b> Add a bit about containerization and Docker images here\n",
    "</div>"
   ]
  },
  {
   "cell_type": "markdown",
   "metadata": {},
   "source": [
    "## Instructions"
   ]
  },
  {
   "cell_type": "markdown",
   "metadata": {},
   "source": [
    "To obtain a containerized version of `turbo_seti`, you can run the following command."
   ]
  },
  {
   "cell_type": "markdown",
   "metadata": {},
   "source": [
    "<p style=\"background:black\">\n",
    "<code style=\"background:black;color:white\">\n",
    "    $ docker pull rtraas/turbo-cloud\n",
    "\n",
    "</code>\n",
    "</p>\n"
   ]
  },
  {
   "cell_type": "markdown",
   "metadata": {},
   "source": [
    "This will install a Docker image that contains `turbo_seti`, `blimpy`, `setigen` and all of their dependencies. "
   ]
  },
  {
   "cell_type": "markdown",
   "metadata": {},
   "source": [
    "___\n",
    "# 3. Mounting a file storage system onto a `Docker` container"
   ]
  },
  {
   "cell_type": "markdown",
   "metadata": {},
   "source": [
    "If the `.h5` files are in the directory `~/h5_files`, then the following commands will start a Docker container with access to those `.h5`.  Not running this command in this way will cause Docker to not give you access to the files."
   ]
  },
  {
   "cell_type": "markdown",
   "metadata": {},
   "source": [
    "<p style=\"background:black\">\n",
    "<code style=\"background:black;color:white\">\n",
    "    $ docker run --rm --mount type=bind,source=/h5_files,target=/mount -it rtraas/turbo-cloud:latest /bin/bash\n",
    "\n",
    "</code>\n",
    "</p>\n"
   ]
  },
  {
   "cell_type": "markdown",
   "metadata": {},
   "source": []
  }
 ],
 "metadata": {
  "kernelspec": {
   "display_name": "Python 3",
   "language": "python",
   "name": "python3"
  },
  "language_info": {
   "codemirror_mode": {
    "name": "ipython",
    "version": 3
   },
   "file_extension": ".py",
   "mimetype": "text/x-python",
   "name": "python",
   "nbconvert_exporter": "python",
   "pygments_lexer": "ipython3",
   "version": "3.7.6"
  }
 },
 "nbformat": 4,
 "nbformat_minor": 4
}
